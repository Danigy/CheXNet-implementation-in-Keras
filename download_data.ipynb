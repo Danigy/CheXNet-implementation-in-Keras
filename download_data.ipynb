{
 "cells": [
  {
   "cell_type": "code",
   "execution_count": 2,
   "metadata": {},
   "outputs": [
    {
     "name": "stderr",
     "output_type": "stream",
     "text": [
      "/usr/lib/python3.6/importlib/_bootstrap.py:219: RuntimeWarning: numpy.dtype size changed, may indicate binary incompatibility. Expected 96, got 88\n",
      "  return f(*args, **kwds)\n"
     ]
    }
   ],
   "source": [
    "!pip3 install -q pydicom \n",
    "!pip3 install -q tqdm \n",
    "!pip3 install -q imgaug \n",
    "import os \n",
    "import sys\n",
    "import random\n",
    "import math\n",
    "import numpy as np\n",
    "import cv2\n",
    "import matplotlib.pyplot as plt\n",
    "import json\n",
    "import pydicom\n",
    "from imgaug import augmenters as iaa\n",
    "from tqdm import tqdm\n",
    "import pandas as pd \n",
    "import glob "
   ]
  },
  {
   "cell_type": "code",
   "execution_count": 16,
   "metadata": {},
   "outputs": [],
   "source": [
    "import pandas as pd\n"
   ]
  },
  {
   "cell_type": "code",
   "execution_count": 3,
   "metadata": {},
   "outputs": [],
   "source": [
    "!pip3 install -q kaggle\n",
    "\n",
    "# enter your Kaggle credentionals here\n",
    "os.environ['KAGGLE_USERNAME']=\"msadegh97\"\n",
    "os.environ['KAGGLE_KEY']=\"\"\n"
   ]
  },
  {
   "cell_type": "code",
   "execution_count": 4,
   "metadata": {},
   "outputs": [],
   "source": [
    "ROOT_DIR = os.path.abspath('./datas')\n",
    "\n",
    "# Directory to save logs and trained model\n",
    "MODEL_DIR = os.path.join(ROOT_DIR, 'logs')\n",
    "\n",
    "if not os.path.exists(ROOT_DIR):\n",
    "    os.makedirs(ROOT_DIR)\n",
    "os.chdir(ROOT_DIR)\n"
   ]
  },
  {
   "cell_type": "code",
   "execution_count": 6,
   "metadata": {},
   "outputs": [
    {
     "name": "stdout",
     "output_type": "stream",
     "text": [
      "Downloading chest-xray-pneumonia.zip to /root/datas\n",
      "100%|██████████████████████████████████████| 1.15G/1.15G [01:49<00:00, 11.8MB/s]\n",
      "\n"
     ]
    }
   ],
   "source": [
    "!kaggle datasets download -d paultimothymooney/chest-xray-pneumonia"
   ]
  },
  {
   "cell_type": "code",
   "execution_count": 8,
   "metadata": {},
   "outputs": [
    {
     "name": "stdout",
     "output_type": "stream",
     "text": [
      "Archive:  chest-xray-pneumonia.zip\n",
      "  inflating: chest_xray.zip          \n"
     ]
    }
   ],
   "source": [
    "!unzip chest-xray-pneumonia.zip"
   ]
  },
  {
   "cell_type": "code",
   "execution_count": 10,
   "metadata": {},
   "outputs": [
    {
     "name": "stdout",
     "output_type": "stream",
     "text": [
      "chest_xray  chest-xray-pneumonia.zip  chest_xray.zip  __MACOSX\r\n"
     ]
    }
   ],
   "source": [
    "!unzip chest_xray.zip"
   ]
  },
  {
   "cell_type": "code",
   "execution_count": null,
   "metadata": {},
   "outputs": [],
   "source": [
    "!cp chest_xray/val/NORMAL/* chest_xray/train/NORMAL/\n",
    "\n",
    "!cp chest_xray/val/PNEUMONIA/* chest_xray/train/PNEUMONIA/\n",
    "\n"
   ]
  },
  {
   "cell_type": "code",
   "execution_count": 41,
   "metadata": {},
   "outputs": [],
   "source": []
  },
  {
   "cell_type": "code",
   "execution_count": 44,
   "metadata": {},
   "outputs": [
    {
     "name": "stdout",
     "output_type": "stream",
     "text": [
      "mkdir: cannot create directory ‘train’: File exists\r\n"
     ]
    }
   ],
   "source": [
    "Normal = os.listdir('./chest_xray/train/NORMAL/')\n",
    "\n",
    "Pneumonia = os.listdir('./chest_xray/train/PNEUMONIA/')\n",
    "\n",
    "Nor = pd.DataFrame(Normal, columns=['name'])\n",
    "\n",
    "Pne = pd.DataFrame(Pneumonia, columns=['name'])\n",
    "\n",
    "Pne['label'] = 1\n",
    "\n",
    "Nor['label'] = 0 \n",
    "\n",
    "datas = Pne.append(Nor)\n",
    "\n",
    "datas.index = range(len(datas))\n",
    "\n",
    "datas.to_csv('info_datas.csv', index=False)\n",
    "\n",
    "!mkdir train\n",
    "\n",
    "!cp chest_xray/train/NORMAL/*.jpeg train/\n",
    "\n",
    "!cp chest_xray/train/PNEUMONIA/*.jpeg train/\n",
    "\n"
   ]
  },
  {
   "cell_type": "code",
   "execution_count": 45,
   "metadata": {},
   "outputs": [
    {
     "name": "stdout",
     "output_type": "stream",
     "text": [
      "mkdir: cannot create directory ‘test’: File exists\r\n"
     ]
    }
   ],
   "source": [
    "Normal = os.listdir('./chest_xray/test/NORMAL/')\n",
    "\n",
    "Pneumonia = os.listdir('./chest_xray/test/PNEUMONIA/')\n",
    "\n",
    "Nor = pd.DataFrame(Normal, columns=['name'])\n",
    "\n",
    "Pne = pd.DataFrame(Pneumonia, columns=['name'])\n",
    "\n",
    "Pne['label'] = 1\n",
    "\n",
    "Nor['label'] = 0 \n",
    "\n",
    "datas = Pne.append(Nor)\n",
    "\n",
    "datas.index = range(len(datas))\n",
    "\n",
    "datas.to_csv('info_test_datas.csv', index=False)\n",
    "\n",
    "!mkdir test\n",
    "\n",
    "!cp chest_xray/test/NORMAL/*.jpeg  test/\n",
    "\n",
    "!cp chest_xray/test/PNEUMONIA/*.jpeg  test/\n",
    "\n"
   ]
  },
  {
   "cell_type": "code",
   "execution_count": null,
   "metadata": {},
   "outputs": [],
   "source": []
  }
 ],
 "metadata": {
  "kernelspec": {
   "display_name": "Python 3",
   "language": "python",
   "name": "python3"
  },
  "language_info": {
   "codemirror_mode": {
    "name": "ipython",
    "version": 3
   },
   "file_extension": ".py",
   "mimetype": "text/x-python",
   "name": "python",
   "nbconvert_exporter": "python",
   "pygments_lexer": "ipython3",
   "version": "3.6.6"
  }
 },
 "nbformat": 4,
 "nbformat_minor": 2
}
